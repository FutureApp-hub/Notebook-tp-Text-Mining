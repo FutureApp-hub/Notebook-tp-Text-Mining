{
 "cells": [
  {
   "cell_type": "markdown",
   "metadata": {},
   "source": [
    "## Travail pratique no 2: Les expressions régulières\n"
   ]
  },
  {
   "cell_type": "markdown",
   "metadata": {},
   "source": [
    "Soit la chaine suivante:"
   ]
  },
  {
   "cell_type": "code",
   "execution_count": 3,
   "metadata": {},
   "outputs": [],
   "source": [
    "texte = \"\"\"Je suis un gondwanais du #Nord. Je @gondwane normalement @cool. On pensera pour cela à \n",
    "faire attention à la redoutable conjugaison des verbes @gondwanais. Compte-tenu des difficultés \n",
    "inhérentes à la conjugaison @gondwanaise, on se contentera d’étudier les verbes à la première \n",
    "#personne du singulier au #présent et au #futur.\"\"\""
   ]
  },
  {
   "cell_type": "markdown",
   "metadata": {},
   "source": [
    "On désire extraire les Hashtags et des callouts"
   ]
  },
  {
   "cell_type": "markdown",
   "metadata": {},
   "source": [
    "#### Extraction des Hashtags"
   ]
  },
  {
   "cell_type": "code",
   "execution_count": 4,
   "metadata": {},
   "outputs": [
    {
     "data": {
      "text/plain": [
       "['#Nord.', '#présent', '#futur.']"
      ]
     },
     "execution_count": 4,
     "metadata": {},
     "output_type": "execute_result"
    }
   ],
   "source": [
    "# Des mots qui commence par le caractère #\n",
    "Hashtags = [mot for mot in texte.split(\" \") if mot.startswith(\"#\")]\n",
    "Hashtags"
   ]
  },
  {
   "cell_type": "markdown",
   "metadata": {},
   "source": [
    "#### Extraction des callouts"
   ]
  },
  {
   "cell_type": "code",
   "execution_count": 5,
   "metadata": {},
   "outputs": [
    {
     "data": {
      "text/plain": [
       "['@gondwane', '@cool.', '@gondwanais.', '@gondwanaise,']"
      ]
     },
     "execution_count": 5,
     "metadata": {},
     "output_type": "execute_result"
    }
   ],
   "source": [
    "# Des mots qui commence par le caractère @\n",
    "Callouts = [mot for mot in texte.split(\" \") if mot.startswith(\"@\")]\n",
    "Callouts"
   ]
  },
  {
   "cell_type": "markdown",
   "metadata": {},
   "source": [
    "#### Avec regex"
   ]
  },
  {
   "cell_type": "code",
   "execution_count": 8,
   "metadata": {},
   "outputs": [
    {
     "data": {
      "text/plain": [
       "['@gondwane', '@cool.', '@gondwanais.', '@gondwanaise,']"
      ]
     },
     "execution_count": 8,
     "metadata": {},
     "output_type": "execute_result"
    }
   ],
   "source": [
    "import re\n",
    "callouts = [w for w in texte.split() if re.search('@[A-Za-z0-9_]+', w)]\n",
    "callouts"
   ]
  },
  {
   "cell_type": "code",
   "execution_count": 9,
   "metadata": {},
   "outputs": [
    {
     "data": {
      "text/plain": [
       "['@gondwane', '@cool', '@gondwanais', '@gondwanaise']"
      ]
     },
     "execution_count": 9,
     "metadata": {},
     "output_type": "execute_result"
    }
   ],
   "source": [
    "#ou\n",
    "re.findall(r\"@[A-Za-z0-9_]+\", texte)"
   ]
  },
  {
   "cell_type": "markdown",
   "metadata": {},
   "source": [
    "## Travail à faire\n",
    "Soit le texte suivant:"
   ]
  },
  {
   "cell_type": "raw",
   "metadata": {},
   "source": [
    "03/25/93 Total time of visit (in minutes):\n",
    "6/18/85 Primary Care Doctor:\n",
    "sshe plans to move as of 7/8/71 In-Home Services: None\n",
    "7 on 9/27/75 Audit C Score Current:\n",
    "2/6/96 sleep studyPain Treatment Pain Level (Numeric Scale): 7\n",
    ".Per 7/06/79 Movement D/O note:\n",
    "4, 5/18/78 Patient's thoughts about current substance abuse:\n",
    "10/24/89 CPT Code: 90801 - Psychiatric Diagnosis Interview\n",
    "7/20/2011 [report_end]\n",
    "06 May 1972 SOS-10 Total Score:\n",
    "7intake for follow up treatment at Anson General Hospital on 10 Feb 1983 @ 12 AM"
   ]
  },
  {
   "cell_type": "markdown",
   "metadata": {},
   "source": [
    "Extraire toutes les dates qu'il contient"
   ]
  },
  {
   "cell_type": "code",
   "execution_count": null,
   "metadata": {},
   "outputs": [],
   "source": []
  }
 ],
 "metadata": {
  "kernelspec": {
   "display_name": "Python 3",
   "language": "python",
   "name": "python3"
  },
  "language_info": {
   "codemirror_mode": {
    "name": "ipython",
    "version": 3
   },
   "file_extension": ".py",
   "mimetype": "text/x-python",
   "name": "python",
   "nbconvert_exporter": "python",
   "pygments_lexer": "ipython3",
   "version": "3.7.6"
  }
 },
 "nbformat": 4,
 "nbformat_minor": 4
}
