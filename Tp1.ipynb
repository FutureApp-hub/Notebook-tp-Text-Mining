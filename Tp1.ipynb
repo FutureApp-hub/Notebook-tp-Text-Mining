{
 "cells": [
  {
   "cell_type": "markdown",
   "metadata": {},
   "source": [
    "## Travail pratique no 1: Opérations sur du texte\n",
    "Dans ce notebook, nous catégorisons les opérations de base sur du texte via les méthode de chaine du langage Python. Pour avoir la liste de toutes ces fonctions, vous pouvez exécuter le code <strong>help(str)</strong>"
   ]
  },
  {
   "cell_type": "markdown",
   "metadata": {},
   "source": [
    "#### Comparaison"
   ]
  },
  {
   "cell_type": "code",
   "execution_count": 90,
   "metadata": {},
   "outputs": [],
   "source": [
    "s = \"Text Mining\""
   ]
  },
  {
   "cell_type": "code",
   "execution_count": 30,
   "metadata": {},
   "outputs": [
    {
     "data": {
      "text/plain": [
       "False"
      ]
     },
     "execution_count": 30,
     "metadata": {},
     "output_type": "execute_result"
    }
   ],
   "source": [
    "s.startswith(\"t\")"
   ]
  },
  {
   "cell_type": "code",
   "execution_count": 31,
   "metadata": {},
   "outputs": [
    {
     "data": {
      "text/plain": [
       "True"
      ]
     },
     "execution_count": 31,
     "metadata": {},
     "output_type": "execute_result"
    }
   ],
   "source": [
    "s.startswith(\"T\")"
   ]
  },
  {
   "cell_type": "code",
   "execution_count": 32,
   "metadata": {},
   "outputs": [
    {
     "data": {
      "text/plain": [
       "True"
      ]
     },
     "execution_count": 32,
     "metadata": {},
     "output_type": "execute_result"
    }
   ],
   "source": [
    "s.endswith(\"g\")"
   ]
  },
  {
   "cell_type": "code",
   "execution_count": 33,
   "metadata": {},
   "outputs": [
    {
     "data": {
      "text/plain": [
       "True"
      ]
     },
     "execution_count": 33,
     "metadata": {},
     "output_type": "execute_result"
    }
   ],
   "source": [
    "\"Mining\" in s"
   ]
  },
  {
   "cell_type": "code",
   "execution_count": 34,
   "metadata": {},
   "outputs": [
    {
     "data": {
      "text/plain": [
       "False"
      ]
     },
     "execution_count": 34,
     "metadata": {},
     "output_type": "execute_result"
    }
   ],
   "source": [
    "s.isupper()"
   ]
  },
  {
   "cell_type": "code",
   "execution_count": 35,
   "metadata": {},
   "outputs": [
    {
     "data": {
      "text/plain": [
       "False"
      ]
     },
     "execution_count": 35,
     "metadata": {},
     "output_type": "execute_result"
    }
   ],
   "source": [
    "s.islower()"
   ]
  },
  {
   "cell_type": "code",
   "execution_count": 36,
   "metadata": {},
   "outputs": [
    {
     "data": {
      "text/plain": [
       "True"
      ]
     },
     "execution_count": 36,
     "metadata": {},
     "output_type": "execute_result"
    }
   ],
   "source": [
    "s.istitle()"
   ]
  },
  {
   "cell_type": "code",
   "execution_count": 37,
   "metadata": {},
   "outputs": [
    {
     "data": {
      "text/plain": [
       "False"
      ]
     },
     "execution_count": 37,
     "metadata": {},
     "output_type": "execute_result"
    }
   ],
   "source": [
    "s.isalpha()"
   ]
  },
  {
   "cell_type": "code",
   "execution_count": 38,
   "metadata": {},
   "outputs": [
    {
     "data": {
      "text/plain": [
       "False"
      ]
     },
     "execution_count": 38,
     "metadata": {},
     "output_type": "execute_result"
    }
   ],
   "source": [
    "s.isdigit()"
   ]
  },
  {
   "cell_type": "code",
   "execution_count": 39,
   "metadata": {},
   "outputs": [
    {
     "data": {
      "text/plain": [
       "False"
      ]
     },
     "execution_count": 39,
     "metadata": {},
     "output_type": "execute_result"
    }
   ],
   "source": [
    "s.isalnum()"
   ]
  },
  {
   "cell_type": "markdown",
   "metadata": {},
   "source": [
    "#### Modification"
   ]
  },
  {
   "cell_type": "code",
   "execution_count": 69,
   "metadata": {},
   "outputs": [],
   "source": [
    "s = \"\"\" Bienvenue au cours de Text Mining.\n",
    "Ceci est le premier notebook du cours. \"\"\""
   ]
  },
  {
   "cell_type": "code",
   "execution_count": 66,
   "metadata": {},
   "outputs": [
    {
     "data": {
      "text/plain": [
       "' bienvenue au cours de text mining.\\nceci est le premier notebook du cours. '"
      ]
     },
     "execution_count": 66,
     "metadata": {},
     "output_type": "execute_result"
    }
   ],
   "source": [
    "#Mettre le texte en minuscule\n",
    "s.lower()"
   ]
  },
  {
   "cell_type": "code",
   "execution_count": 67,
   "metadata": {},
   "outputs": [
    {
     "data": {
      "text/plain": [
       "' Bienvenue au cours de Text Mining.\\nCeci est le deuxième notebook du cours. '"
      ]
     },
     "execution_count": 67,
     "metadata": {},
     "output_type": "execute_result"
    }
   ],
   "source": [
    "# Ici on remplace toutes les occurences de la chaine \"premier\" par \"deuxième\"\n",
    "s.replace(\"premier\", \"deuxième\")"
   ]
  },
  {
   "cell_type": "markdown",
   "metadata": {},
   "source": [
    "#### Découpage"
   ]
  },
  {
   "cell_type": "code",
   "execution_count": 48,
   "metadata": {},
   "outputs": [
    {
     "data": {
      "text/plain": [
       "[' Bienvenue au cours de Text Mining.',\n",
       " 'Ceci est le premier notebook du cours. ']"
      ]
     },
     "execution_count": 48,
     "metadata": {},
     "output_type": "execute_result"
    }
   ],
   "source": [
    "s.split(\"\\n\")"
   ]
  },
  {
   "cell_type": "code",
   "execution_count": 49,
   "metadata": {},
   "outputs": [
    {
     "data": {
      "text/plain": [
       "[' Bienvenue au cours de Text Mining.',\n",
       " 'Ceci est le premier notebook du cours. ']"
      ]
     },
     "execution_count": 49,
     "metadata": {},
     "output_type": "execute_result"
    }
   ],
   "source": [
    "s.splitlines()"
   ]
  },
  {
   "cell_type": "markdown",
   "metadata": {},
   "source": [
    "#### Nettoyage"
   ]
  },
  {
   "cell_type": "code",
   "execution_count": 51,
   "metadata": {},
   "outputs": [
    {
     "data": {
      "text/plain": [
       "'Bienvenue au cours de Text Mining.\\nCeci est le premier notebook du cours.'"
      ]
     },
     "execution_count": 51,
     "metadata": {},
     "output_type": "execute_result"
    }
   ],
   "source": [
    "#Supprime les espaces en début et fin de la chaine s\n",
    "s.strip()"
   ]
  },
  {
   "cell_type": "code",
   "execution_count": 53,
   "metadata": {},
   "outputs": [
    {
     "data": {
      "text/plain": [
       "' Bienvenue au cours de Text Mining.\\nCeci est le premier notebook du cours.'"
      ]
     },
     "execution_count": 53,
     "metadata": {},
     "output_type": "execute_result"
    }
   ],
   "source": [
    "#Supprime les espaces en fin de chaine s\n",
    "s.rstrip()"
   ]
  },
  {
   "cell_type": "markdown",
   "metadata": {},
   "source": [
    "#### Recherche"
   ]
  },
  {
   "cell_type": "code",
   "execution_count": 68,
   "metadata": {},
   "outputs": [
    {
     "data": {
      "text/plain": [
       "23"
      ]
     },
     "execution_count": 68,
     "metadata": {},
     "output_type": "execute_result"
    }
   ],
   "source": [
    "#Retourne la position du premier caractère de la première occurence de \n",
    "#sous_chaine si cette dernière est une sous chaine de s et -1 sinon\n",
    "sous_chaine = \"Text Mining\"\n",
    "s.find(\"Text Mining\")"
   ]
  },
  {
   "cell_type": "code",
   "execution_count": 70,
   "metadata": {},
   "outputs": [
    {
     "data": {
      "text/plain": [
       "23"
      ]
     },
     "execution_count": 70,
     "metadata": {},
     "output_type": "execute_result"
    }
   ],
   "source": [
    "#Recherche la chaine sous_chaine dans s en partant de la fin\n",
    "sous_chaine = \"Text Mining\"\n",
    "s.find(\"Text Mining\")"
   ]
  },
  {
   "cell_type": "code",
   "execution_count": 81,
   "metadata": {},
   "outputs": [
    {
     "data": {
      "text/plain": [
       "11"
      ]
     },
     "execution_count": 81,
     "metadata": {},
     "output_type": "execute_result"
    }
   ],
   "source": [
    "#Nombre d'occurence du caractère \"e\" dans la chaine s\n",
    "s.count(\"e\")"
   ]
  },
  {
   "cell_type": "markdown",
   "metadata": {},
   "source": [
    "### Récupérer des données textes à partir d'un fichier"
   ]
  },
  {
   "cell_type": "code",
   "execution_count": 73,
   "metadata": {},
   "outputs": [],
   "source": [
    "fichier = \"exemple1.txt\"\n",
    "f1 = open(fichier, \"r\")"
   ]
  },
  {
   "cell_type": "markdown",
   "metadata": {},
   "source": [
    "####  Lire tout le contenu du fichier d'un coup"
   ]
  },
  {
   "cell_type": "code",
   "execution_count": 72,
   "metadata": {},
   "outputs": [
    {
     "data": {
      "text/plain": [
       "'•\\tSélection du corpus : cette étape consiste en la préparation du texte avant son exploitation. Récupérer les données textuelles de différentes sources et les rassembler au même endroit. Si le texte apparaît dans plusieurs fichiers, les enregistrer au même endroit. Dans le cas es bases de données, déterminer le (les) champ (s) contenant le texte à analyser.\\n•\\tAnalyse et extraction des données structurées : Cette étape consiste à appliquer des algorithmes de prétraitement (tokenisation, suppressions des mots vide de sens (stops words), des espaces inutiles, des ponctuations, suppression des signes du langage, lemmatisation, racinisation, etc) au texte précédent dans le but de le nettoyer.\\n•\\tRéduction de dimension (Bag-of-words, Word2Vec, …) : Elle consiste à passer de la représentation non structurée de nos documents à un format structurer sur lequel nous pouvant appliquer nos algorithmes usuels de machine learning et de deep learning.\\n•\\tAnalyse des données structurées : Une fois l’étape précédente terminer, nous pouvant appliquer un algorithme de machine learning (classification, clustering etc …) ou de deep learning (lstm, bert, …) de notre choix en fonction du domaine d’application dans lequel on se trouve.\\n•\\tVisualisation des résultats : Pour un algorithme de classification supervisée, cette étape consiste à regarder le comportement de notre modèle sur de nouvelles données ; Et pour de la classification non supervisée à analyser les différents clusters (taille, individu, proportion, …)\\n•\\tInterprétation : Etape de prise de décision.\\n'"
      ]
     },
     "execution_count": 72,
     "metadata": {},
     "output_type": "execute_result"
    }
   ],
   "source": [
    "f1.read()"
   ]
  },
  {
   "cell_type": "markdown",
   "metadata": {},
   "source": [
    "#### Lire le fichier ligne par ligne"
   ]
  },
  {
   "cell_type": "code",
   "execution_count": 74,
   "metadata": {},
   "outputs": [
    {
     "name": "stdout",
     "output_type": "stream",
     "text": [
      "•\tSélection du corpus : cette étape consiste en la préparation du texte avant son exploitation. Récupérer les données textuelles de différentes sources et les rassembler au même endroit. Si le texte apparaît dans plusieurs fichiers, les enregistrer au même endroit. Dans le cas es bases de données, déterminer le (les) champ (s) contenant le texte à analyser.\n",
      "\n",
      "•\tAnalyse et extraction des données structurées : Cette étape consiste à appliquer des algorithmes de prétraitement (tokenisation, suppressions des mots vide de sens (stops words), des espaces inutiles, des ponctuations, suppression des signes du langage, lemmatisation, racinisation, etc) au texte précédent dans le but de le nettoyer.\n",
      "\n",
      "•\tRéduction de dimension (Bag-of-words, Word2Vec, …) : Elle consiste à passer de la représentation non structurée de nos documents à un format structurer sur lequel nous pouvant appliquer nos algorithmes usuels de machine learning et de deep learning.\n",
      "\n",
      "•\tAnalyse des données structurées : Une fois l’étape précédente terminer, nous pouvant appliquer un algorithme de machine learning (classification, clustering etc …) ou de deep learning (lstm, bert, …) de notre choix en fonction du domaine d’application dans lequel on se trouve.\n",
      "\n",
      "•\tVisualisation des résultats : Pour un algorithme de classification supervisée, cette étape consiste à regarder le comportement de notre modèle sur de nouvelles données ; Et pour de la classification non supervisée à analyser les différents clusters (taille, individu, proportion, …)\n",
      "\n",
      "•\tInterprétation : Etape de prise de décision.\n",
      "\n"
     ]
    }
   ],
   "source": [
    "for ligne in f1.readlines():\n",
    "    print(ligne)"
   ]
  },
  {
   "cell_type": "markdown",
   "metadata": {},
   "source": [
    "#### Récupérer la première ligne"
   ]
  },
  {
   "cell_type": "code",
   "execution_count": 78,
   "metadata": {},
   "outputs": [
    {
     "data": {
      "text/plain": [
       "'•\\tSélection du corpus : cette étape consiste en la préparation du texte avant son exploitation. Récupérer les données textuelles de différentes sources et les rassembler au même endroit. Si le texte apparaît dans plusieurs fichiers, les enregistrer au même endroit. Dans le cas es bases de données, déterminer le (les) champ (s) contenant le texte à analyser.\\n'"
      ]
     },
     "execution_count": 78,
     "metadata": {},
     "output_type": "execute_result"
    }
   ],
   "source": [
    "f1.seek(0) #On se position au début du fichier; Ensuite on lit la 1 iere ligne\n",
    "f1.readline()"
   ]
  },
  {
   "cell_type": "markdown",
   "metadata": {},
   "source": [
    "#### Fermeture"
   ]
  },
  {
   "cell_type": "code",
   "execution_count": 89,
   "metadata": {},
   "outputs": [],
   "source": [
    "f1.close() #On ferme le fichier"
   ]
  },
  {
   "cell_type": "code",
   "execution_count": null,
   "metadata": {},
   "outputs": [],
   "source": []
  }
 ],
 "metadata": {
  "kernelspec": {
   "display_name": "Python 3",
   "language": "python",
   "name": "python3"
  },
  "language_info": {
   "codemirror_mode": {
    "name": "ipython",
    "version": 3
   },
   "file_extension": ".py",
   "mimetype": "text/x-python",
   "name": "python",
   "nbconvert_exporter": "python",
   "pygments_lexer": "ipython3",
   "version": "3.7.6"
  }
 },
 "nbformat": 4,
 "nbformat_minor": 4
}
